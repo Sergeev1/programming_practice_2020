{
 "cells": [
  {
   "cell_type": "markdown",
   "metadata": {},
   "source": [
    "Дан список чисел. Посчитайте, сколько в нем пар элементов, равных друг другу. Считается, что любые два элемента, равные друг другу образуют одну пару, которую необходимо посчитать. (pythontutor.ru, занятие 7, «Количество совпадающих пар»)"
   ]
  },
  {
   "cell_type": "code",
   "execution_count": 20,
   "metadata": {},
   "outputs": [
    {
     "name": "stdout",
     "output_type": "stream",
     "text": [
      "3.0 [2, 1, 1, 1, 1, 2, 3]  - Количество совпадающих пар\n"
     ]
    }
   ],
   "source": [
    "def равныепары(lst):\n",
    "    n=0\n",
    "    m=[]\n",
    "    #сбор уникальных элементов списка\n",
    "    for i in lst:\n",
    "        if i not in m:\n",
    "            m.append(i)\n",
    "    lc=[lst.count(i) for i in m]#число уникальных элементов списка\n",
    "    for i in lc:\n",
    "\n",
    "        if i//2==0:\n",
    "            n=n+i/2\n",
    "        elif i>2:\n",
    "            n=n+(i-1)/2\n",
    "                \n",
    "    print(n,lc,' - Количество совпадающих пар')\n",
    "lst=[1,1,2,3,4,5,6,6,7,7,7]\n",
    "равныепары(lst)"
   ]
  },
  {
   "cell_type": "code",
   "execution_count": 16,
   "metadata": {},
   "outputs": [
    {
     "data": {
      "text/plain": [
       "1.0"
      ]
     },
     "execution_count": 16,
     "metadata": {},
     "output_type": "execute_result"
    }
   ],
   "source": [
    "(3-1)/2"
   ]
  },
  {
   "cell_type": "code",
   "execution_count": 19,
   "metadata": {},
   "outputs": [
    {
     "data": {
      "text/plain": [
       "0"
      ]
     },
     "execution_count": 19,
     "metadata": {},
     "output_type": "execute_result"
    }
   ],
   "source": [
    "1//2"
   ]
  },
  {
   "cell_type": "code",
   "execution_count": null,
   "metadata": {},
   "outputs": [],
   "source": []
  }
 ],
 "metadata": {
  "kernelspec": {
   "display_name": "Python 3",
   "language": "python",
   "name": "python3"
  },
  "language_info": {
   "codemirror_mode": {
    "name": "ipython",
    "version": 3
   },
   "file_extension": ".py",
   "mimetype": "text/x-python",
   "name": "python",
   "nbconvert_exporter": "python",
   "pygments_lexer": "ipython3",
   "version": "3.8.2"
  }
 },
 "nbformat": 4,
 "nbformat_minor": 4
}
