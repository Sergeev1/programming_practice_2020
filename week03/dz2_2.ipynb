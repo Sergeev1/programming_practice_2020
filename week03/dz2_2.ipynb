{
 "cells": [
  {
   "cell_type": "markdown",
   "metadata": {},
   "source": [
    "В списке все элементы различны. Поменяйте местами минимальный и максимальный элемент этого списка. (pythontutor.ru, занятие 7, «Переставить min и max»)"
   ]
  },
  {
   "cell_type": "code",
   "execution_count": 8,
   "metadata": {},
   "outputs": [],
   "source": [
    "def перестановка_min_max(l):\n",
    "    ma=max(l)\n",
    "    mi=min(l)\n",
    "    l[l.index(ma)]=mi\n",
    "    l[l.index(mi)]=ma\n",
    "    print(l, ' - Переставил min и max')"
   ]
  },
  {
   "cell_type": "code",
   "execution_count": 9,
   "metadata": {},
   "outputs": [
    {
     "name": "stdout",
     "output_type": "stream",
     "text": [
      "[3, 2, 1]  - Переставил min и max\n"
     ]
    }
   ],
   "source": [
    "l=[1,2,3]\n",
    "перестановка_min_max(l)"
   ]
  },
  {
   "cell_type": "code",
   "execution_count": null,
   "metadata": {},
   "outputs": [],
   "source": []
  }
 ],
 "metadata": {
  "kernelspec": {
   "display_name": "Python 3",
   "language": "python",
   "name": "python3"
  },
  "language_info": {
   "codemirror_mode": {
    "name": "ipython",
    "version": 3
   },
   "file_extension": ".py",
   "mimetype": "text/x-python",
   "name": "python",
   "nbconvert_exporter": "python",
   "pygments_lexer": "ipython3",
   "version": "3.8.2"
  }
 },
 "nbformat": 4,
 "nbformat_minor": 4
}
